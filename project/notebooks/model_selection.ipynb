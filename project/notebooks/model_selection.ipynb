{
 "cells": [
  {
   "cell_type": "markdown",
   "metadata": {},
   "source": [
    "# **Finding the best Model fo this Problem**"
   ]
  },
  {
   "cell_type": "markdown",
   "metadata": {},
   "source": [
    "Importing necessary libraries"
   ]
  },
  {
   "cell_type": "code",
   "execution_count": 1,
   "metadata": {},
   "outputs": [],
   "source": [
    "import numpy as np \n",
    "import pandas as pd \n",
    "import matplotlib.pyplot as plt \n",
    "import seaborn as sns"
   ]
  },
  {
   "cell_type": "code",
   "execution_count": 2,
   "metadata": {},
   "outputs": [],
   "source": [
    "from sklearn.metrics import accuracy_score, confusion_matrix, roc_auc_score\n",
    "from sklearn.model_selection import train_test_split, RandomizedSearchCV\n",
    "from sklearn.ensemble import RandomForestClassifier, AdaBoostClassifier\n",
    "from sklearn.linear_model import LogisticRegression, RidgeClassifier\n",
    "from sklearn.neighbors import KNeighborsClassifier\n",
    "from sklearn.naive_bayes import MultinomialNB\n",
    "from sklearn.svm import SVC"
   ]
  },
  {
   "cell_type": "code",
   "execution_count": 3,
   "metadata": {},
   "outputs": [],
   "source": [
    "import warnings\n",
    "warnings.filterwarnings(\"ignore\")"
   ]
  },
  {
   "cell_type": "markdown",
   "metadata": {},
   "source": [
    "Calling the data from the path"
   ]
  },
  {
   "cell_type": "code",
   "execution_count": 4,
   "metadata": {},
   "outputs": [
    {
     "data": {
      "text/html": [
       "<div>\n",
       "<style scoped>\n",
       "    .dataframe tbody tr th:only-of-type {\n",
       "        vertical-align: middle;\n",
       "    }\n",
       "\n",
       "    .dataframe tbody tr th {\n",
       "        vertical-align: top;\n",
       "    }\n",
       "\n",
       "    .dataframe thead th {\n",
       "        text-align: right;\n",
       "    }\n",
       "</style>\n",
       "<table border=\"1\" class=\"dataframe\">\n",
       "  <thead>\n",
       "    <tr style=\"text-align: right;\">\n",
       "      <th></th>\n",
       "      <th>Unnamed: 0</th>\n",
       "      <th>Gender</th>\n",
       "      <th>Age</th>\n",
       "      <th>Customer Type</th>\n",
       "      <th>Type of Travel</th>\n",
       "      <th>Class</th>\n",
       "      <th>Flight Distance</th>\n",
       "      <th>Departure Delay</th>\n",
       "      <th>Arrival Delay</th>\n",
       "      <th>Departure and Arrival Time Convenience</th>\n",
       "      <th>Satisfaction_Label</th>\n",
       "      <th>flight_service_1</th>\n",
       "      <th>flight_service_2</th>\n",
       "      <th>flight_service_3</th>\n",
       "    </tr>\n",
       "  </thead>\n",
       "  <tbody>\n",
       "    <tr>\n",
       "      <th>0</th>\n",
       "      <td>0</td>\n",
       "      <td>1</td>\n",
       "      <td>48</td>\n",
       "      <td>0</td>\n",
       "      <td>0</td>\n",
       "      <td>0</td>\n",
       "      <td>1</td>\n",
       "      <td>2</td>\n",
       "      <td>2</td>\n",
       "      <td>3</td>\n",
       "      <td>0</td>\n",
       "      <td>3.33</td>\n",
       "      <td>4.0</td>\n",
       "      <td>4.50</td>\n",
       "    </tr>\n",
       "    <tr>\n",
       "      <th>1</th>\n",
       "      <td>1</td>\n",
       "      <td>0</td>\n",
       "      <td>35</td>\n",
       "      <td>1</td>\n",
       "      <td>0</td>\n",
       "      <td>0</td>\n",
       "      <td>1</td>\n",
       "      <td>3</td>\n",
       "      <td>3</td>\n",
       "      <td>2</td>\n",
       "      <td>1</td>\n",
       "      <td>3.33</td>\n",
       "      <td>4.4</td>\n",
       "      <td>4.25</td>\n",
       "    </tr>\n",
       "    <tr>\n",
       "      <th>2</th>\n",
       "      <td>2</td>\n",
       "      <td>1</td>\n",
       "      <td>41</td>\n",
       "      <td>1</td>\n",
       "      <td>0</td>\n",
       "      <td>0</td>\n",
       "      <td>2</td>\n",
       "      <td>0</td>\n",
       "      <td>0</td>\n",
       "      <td>4</td>\n",
       "      <td>1</td>\n",
       "      <td>4.33</td>\n",
       "      <td>4.2</td>\n",
       "      <td>3.25</td>\n",
       "    </tr>\n",
       "    <tr>\n",
       "      <th>3</th>\n",
       "      <td>3</td>\n",
       "      <td>1</td>\n",
       "      <td>50</td>\n",
       "      <td>1</td>\n",
       "      <td>0</td>\n",
       "      <td>0</td>\n",
       "      <td>3</td>\n",
       "      <td>0</td>\n",
       "      <td>0</td>\n",
       "      <td>2</td>\n",
       "      <td>1</td>\n",
       "      <td>3.00</td>\n",
       "      <td>4.6</td>\n",
       "      <td>4.25</td>\n",
       "    </tr>\n",
       "    <tr>\n",
       "      <th>4</th>\n",
       "      <td>4</td>\n",
       "      <td>0</td>\n",
       "      <td>49</td>\n",
       "      <td>1</td>\n",
       "      <td>0</td>\n",
       "      <td>0</td>\n",
       "      <td>3</td>\n",
       "      <td>0</td>\n",
       "      <td>2</td>\n",
       "      <td>3</td>\n",
       "      <td>1</td>\n",
       "      <td>3.67</td>\n",
       "      <td>4.0</td>\n",
       "      <td>3.00</td>\n",
       "    </tr>\n",
       "  </tbody>\n",
       "</table>\n",
       "</div>"
      ],
      "text/plain": [
       "   Unnamed: 0  Gender  Age  Customer Type  Type of Travel  Class  \\\n",
       "0           0       1   48              0               0      0   \n",
       "1           1       0   35              1               0      0   \n",
       "2           2       1   41              1               0      0   \n",
       "3           3       1   50              1               0      0   \n",
       "4           4       0   49              1               0      0   \n",
       "\n",
       "   Flight Distance  Departure Delay  Arrival Delay  \\\n",
       "0                1                2              2   \n",
       "1                1                3              3   \n",
       "2                2                0              0   \n",
       "3                3                0              0   \n",
       "4                3                0              2   \n",
       "\n",
       "   Departure and Arrival Time Convenience  Satisfaction_Label  \\\n",
       "0                                       3                   0   \n",
       "1                                       2                   1   \n",
       "2                                       4                   1   \n",
       "3                                       2                   1   \n",
       "4                                       3                   1   \n",
       "\n",
       "   flight_service_1  flight_service_2  flight_service_3  \n",
       "0              3.33               4.0              4.50  \n",
       "1              3.33               4.4              4.25  \n",
       "2              4.33               4.2              3.25  \n",
       "3              3.00               4.6              4.25  \n",
       "4              3.67               4.0              3.00  "
      ]
     },
     "execution_count": 4,
     "metadata": {},
     "output_type": "execute_result"
    }
   ],
   "source": [
    "data = pd.read_csv(r\"/root/MLOPS_PROJEST_WSL/Airline-Passenger-Satisfaction/project/notebooks/processed_data.csv\")\n",
    "data.head(5)"
   ]
  },
  {
   "cell_type": "markdown",
   "metadata": {},
   "source": [
    "Dividing the data into target and features in seperate variables"
   ]
  },
  {
   "cell_type": "code",
   "execution_count": 5,
   "metadata": {},
   "outputs": [],
   "source": [
    "X = data.drop(columns=[\"Satisfaction_Label\"], axis=1)\n",
    "y = data[\"Satisfaction_Label\"]"
   ]
  },
  {
   "cell_type": "markdown",
   "metadata": {},
   "source": [
    "Spliting data "
   ]
  },
  {
   "cell_type": "code",
   "execution_count": 6,
   "metadata": {},
   "outputs": [
    {
     "data": {
      "text/plain": [
       "((103904, 13), (25976, 13))"
      ]
     },
     "execution_count": 6,
     "metadata": {},
     "output_type": "execute_result"
    }
   ],
   "source": [
    "# Split the dataset into training and testing sets\n",
    "X_train, X_test, y_train, y_test = train_test_split(X, y, test_size=0.2, random_state=42)\n",
    "\n",
    "# Display the shapes of the training and testing sets\n",
    "X_train.shape, X_test.shape  # Shows the shapes of training and testing sets\n"
   ]
  },
  {
   "cell_type": "markdown",
   "metadata": {},
   "source": [
    "Creating an function to check evaluation of model"
   ]
  },
  {
   "cell_type": "code",
   "execution_count": 7,
   "metadata": {},
   "outputs": [],
   "source": [
    "def evaluate_model(true, pred):\n",
    "    # Calculate accuracy using true labels and predicted labels\n",
    "    accuracy = accuracy_score(true, pred)\n",
    "    \n",
    "    # Generate confusion matrix using true labels and predicted labels\n",
    "    confusion_matrix_result = confusion_matrix(true, pred)\n",
    "    \n",
    "    # Calculate ROC AUC score using true labels and predicted labels\n",
    "    roc_auc = roc_auc_score(true, pred)\n",
    "    \n",
    "    # Return the calculated metrics: accuracy, confusion matrix, and ROC AUC score\n",
    "    return accuracy, confusion_matrix_result, roc_auc\n"
   ]
  },
  {
   "cell_type": "code",
   "execution_count": 16,
   "metadata": {},
   "outputs": [
    {
     "name": "stdout",
     "output_type": "stream",
     "text": [
      "-----------LogisticRegression-----------\n",
      "Model performance on training set\n",
      "accuracy_score : 0.57\n",
      "confusion_matrix :\n",
      " [[58729     0]\n",
      " [45175     0]]\n",
      "roc_auc : 0.5\n",
      "Model performance on testing set\n",
      "accuracy_score : 0.57\n",
      "confusion_matrix :\n",
      " [[14723     0]\n",
      " [11253     0]]\n",
      "roc_auc : 0.5\n",
      "\n",
      "\n",
      "-----------RidgeClassifier-----------\n",
      "Model performance on training set\n",
      "accuracy_score : 0.86\n",
      "confusion_matrix :\n",
      " [[51804  6925]\n",
      " [ 7592 37583]]\n",
      "roc_auc : 0.86\n",
      "Model performance on testing set\n",
      "accuracy_score : 0.86\n",
      "confusion_matrix :\n",
      " [[12984  1739]\n",
      " [ 1846  9407]]\n",
      "roc_auc : 0.86\n",
      "\n",
      "\n",
      "-----------RandomForestClassifier-----------\n",
      "Model performance on training set\n",
      "accuracy_score : 1.0\n",
      "confusion_matrix :\n",
      " [[58729     0]\n",
      " [    2 45173]]\n",
      "roc_auc : 1.0\n",
      "Model performance on testing set\n",
      "accuracy_score : 0.92\n",
      "confusion_matrix :\n",
      " [[14014   709]\n",
      " [ 1431  9822]]\n",
      "roc_auc : 0.91\n",
      "\n",
      "\n",
      "-----------AdaBoostClassifier_RF-----------\n",
      "Model performance on training set\n",
      "accuracy_score : 0.88\n",
      "confusion_matrix :\n",
      " [[52651  6078]\n",
      " [ 6292 38883]]\n",
      "roc_auc : 0.88\n",
      "Model performance on testing set\n",
      "accuracy_score : 0.88\n",
      "confusion_matrix :\n",
      " [[13193  1530]\n",
      " [ 1608  9645]]\n",
      "roc_auc : 0.88\n",
      "\n",
      "\n",
      "-----------KNeighborsClassifier-----------\n",
      "Model performance on training set\n",
      "accuracy_score : 0.79\n",
      "confusion_matrix :\n",
      " [[48211 10518]\n",
      " [11679 33496]]\n",
      "roc_auc : 0.78\n",
      "Model performance on testing set\n",
      "accuracy_score : 0.68\n",
      "confusion_matrix :\n",
      " [[10561  4162]\n",
      " [ 4249  7004]]\n",
      "roc_auc : 0.67\n",
      "\n",
      "\n",
      "-----------MultinomialNB-----------\n",
      "Model performance on training set\n",
      "accuracy_score : 0.65\n",
      "confusion_matrix :\n",
      " [[39939 18790]\n",
      " [17313 27862]]\n",
      "roc_auc : 0.65\n",
      "Model performance on testing set\n",
      "accuracy_score : 0.66\n",
      "confusion_matrix :\n",
      " [[10075  4648]\n",
      " [ 4246  7007]]\n",
      "roc_auc : 0.65\n",
      "\n",
      "\n"
     ]
    }
   ],
   "source": [
    "from sklearn.linear_model import LogisticRegression, RidgeClassifier\n",
    "from sklearn.ensemble import RandomForestClassifier, AdaBoostClassifier\n",
    "from sklearn.neighbors import KNeighborsClassifier\n",
    "from sklearn.naive_bayes import MultinomialNB\n",
    "from sklearn.svm import SVC\n",
    "from sklearn.metrics import accuracy_score, confusion_matrix, roc_auc_score\n",
    "\n",
    "# Assuming X_train, X_test, y_train, y_test are already defined\n",
    "\n",
    "def evaluate_model(y_true, y_pred):\n",
    "    accuracy = accuracy_score(y_true, y_pred)\n",
    "    confusion = confusion_matrix(y_true, y_pred)\n",
    "    roc_auc = roc_auc_score(y_true, y_pred)\n",
    "    return accuracy, confusion, roc_auc\n",
    "\n",
    "model = {\n",
    "    \"LogisticRegression\": LogisticRegression(),\n",
    "    \"RidgeClassifier\": RidgeClassifier(),\n",
    "    \"RandomForestClassifier\": RandomForestClassifier(),\n",
    "    \"AdaBoostClassifier_RF\": AdaBoostClassifier(),\n",
    "    \"KNeighborsClassifier\": KNeighborsClassifier(),\n",
    "    \"MultinomialNB\": MultinomialNB(),\n",
    "    # \"SVC\": SVC()\n",
    "}\n",
    "\n",
    "model_list = []\n",
    "accuracy_list = []\n",
    "\n",
    "for model_name, model_instant in model.items():\n",
    "    # Train each model\n",
    "    model_instant.fit(X_train, y_train)\n",
    "\n",
    "    # Predict on training and testing sets\n",
    "    y_train_pred = model_instant.predict(X_train)\n",
    "    y_test_pred = model_instant.predict(X_test)\n",
    "\n",
    "    # Evaluate model performance on training set\n",
    "    model_train_accuracy, model_train_confusion_matrix, model_train_roc_auc = evaluate_model(y_train, y_train_pred)\n",
    "    \n",
    "    # Evaluate model performance on testing set\n",
    "    model_test_accuracy, model_test_confusion_matrix, model_test_roc_auc = evaluate_model(y_test, y_test_pred)\n",
    "\n",
    "    model_list.append(model_name)\n",
    "\n",
    "    # Display model performance for training set\n",
    "    print(f\"-----------{model_name}-----------\")\n",
    "    print(\"Model performance on training set\")\n",
    "    print(f\"accuracy_score : {(model_train_accuracy).round(2)}\")\n",
    "    print(f\"confusion_matrix :\\n {(model_train_confusion_matrix).round(2)}\")\n",
    "    print(f\"roc_auc : {(model_train_roc_auc).round(2)}\")\n",
    "\n",
    "    # Display model performance for testing set\n",
    "    print(\"Model performance on testing set\")\n",
    "    print(f\"accuracy_score : {(model_test_accuracy).round(2)}\")\n",
    "    print(f\"confusion_matrix :\\n {(model_test_confusion_matrix).round(2)}\")\n",
    "    print(f\"roc_auc : {(model_test_roc_auc).round(2)}\")\n",
    "    print(\"\\n\")\n",
    "\n",
    "    accuracy_list.append(model_test_accuracy)\n"
   ]
  },
  {
   "cell_type": "code",
   "execution_count": 9,
   "metadata": {},
   "outputs": [
    {
     "data": {
      "text/html": [
       "<div>\n",
       "<style scoped>\n",
       "    .dataframe tbody tr th:only-of-type {\n",
       "        vertical-align: middle;\n",
       "    }\n",
       "\n",
       "    .dataframe tbody tr th {\n",
       "        vertical-align: top;\n",
       "    }\n",
       "\n",
       "    .dataframe thead th {\n",
       "        text-align: right;\n",
       "    }\n",
       "</style>\n",
       "<table border=\"1\" class=\"dataframe\">\n",
       "  <thead>\n",
       "    <tr style=\"text-align: right;\">\n",
       "      <th></th>\n",
       "      <th>Model_Name</th>\n",
       "      <th>Accuracy_Score</th>\n",
       "    </tr>\n",
       "  </thead>\n",
       "  <tbody>\n",
       "    <tr>\n",
       "      <th>2</th>\n",
       "      <td>RandomForestClassifier</td>\n",
       "      <td>0.918925</td>\n",
       "    </tr>\n",
       "    <tr>\n",
       "      <th>3</th>\n",
       "      <td>AdaBoostClassifier</td>\n",
       "      <td>0.879196</td>\n",
       "    </tr>\n",
       "    <tr>\n",
       "      <th>1</th>\n",
       "      <td>RidgeClassifier</td>\n",
       "      <td>0.861988</td>\n",
       "    </tr>\n",
       "    <tr>\n",
       "      <th>4</th>\n",
       "      <td>KNeighborsClassifier</td>\n",
       "      <td>0.676201</td>\n",
       "    </tr>\n",
       "    <tr>\n",
       "      <th>5</th>\n",
       "      <td>MultinomialNB</td>\n",
       "      <td>0.657607</td>\n",
       "    </tr>\n",
       "    <tr>\n",
       "      <th>0</th>\n",
       "      <td>LogisticRegression</td>\n",
       "      <td>0.566792</td>\n",
       "    </tr>\n",
       "  </tbody>\n",
       "</table>\n",
       "</div>"
      ],
      "text/plain": [
       "               Model_Name  Accuracy_Score\n",
       "2  RandomForestClassifier        0.918925\n",
       "3      AdaBoostClassifier        0.879196\n",
       "1         RidgeClassifier        0.861988\n",
       "4    KNeighborsClassifier        0.676201\n",
       "5           MultinomialNB        0.657607\n",
       "0      LogisticRegression        0.566792"
      ]
     },
     "execution_count": 9,
     "metadata": {},
     "output_type": "execute_result"
    }
   ],
   "source": [
    "pd.DataFrame(list(zip(model_list, accuracy_list)), columns=[\"Model_Name\", \"Accuracy_Score\"]).sort_values(by=[\"Accuracy_Score\"], ascending=False)"
   ]
  },
  {
   "cell_type": "code",
   "execution_count": 10,
   "metadata": {},
   "outputs": [
    {
     "name": "stdout",
     "output_type": "stream",
     "text": [
      "Accuracy : 91.8\n"
     ]
    }
   ],
   "source": [
    "model = RandomForestClassifier()  # Initializing RandomForestClassifier\n",
    "model.fit(X_train, y_train)  # Fitting the model to the training data\n",
    "y_pred = model.predict(X_test)  # Predicting on the test set\n",
    "score = accuracy_score(y_test, y_pred) * 100  # Calculating accuracy\n",
    "print(\"Accuracy : {:.1f}\".format(score))  # Printing the accuracy score"
   ]
  },
  {
   "cell_type": "code",
   "execution_count": 17,
   "metadata": {},
   "outputs": [
    {
     "name": "stdout",
     "output_type": "stream",
     "text": [
      "Cross-Validation Scores: [0.91569222 0.91699148 0.91362302 0.91824263 0.91727623]\n",
      "Mean CV Accuracy: 0.9163651150207125\n"
     ]
    }
   ],
   "source": [
    "from sklearn.model_selection import cross_val_score\n",
    "from sklearn.ensemble import RandomForestClassifier\n",
    "\n",
    "# Assuming X_train, y_train are your training data\n",
    "\n",
    "# Initialize the RandomForestClassifier\n",
    "rf_model = RandomForestClassifier()\n",
    "\n",
    "# Perform cross-validation (CV=5, for instance)\n",
    "cv_scores = cross_val_score(rf_model, X_train, y_train, cv=5, scoring='accuracy')\n",
    "\n",
    "# Display the cross-validation scores\n",
    "print(\"Cross-Validation Scores:\", cv_scores)\n",
    "print(\"Mean CV Accuracy:\", cv_scores.mean())\n"
   ]
  },
  {
   "cell_type": "markdown",
   "metadata": {},
   "source": [
    "**The RandomForestClassifier demonstrates high accuracy on both training and testing sets, with minimal misclassifications (as seen in the confusion matrix) and a robust ROC AUC score, indicating strong discriminatory power between classes.**"
   ]
  },
  {
   "cell_type": "markdown",
   "metadata": {},
   "source": [
    "Hyper parametric tuning"
   ]
  },
  {
   "cell_type": "code",
   "execution_count": 11,
   "metadata": {},
   "outputs": [
    {
     "name": "stdout",
     "output_type": "stream",
     "text": [
      "{'n_estimators': [100, 200, 300, 400, 500, 600, 700, 800, 900, 1000], 'criterion': ['gini', 'entropy', 'log_loss'], 'min_samples_split': [2, 4, 6], 'min_samples_leaf': [2, 4, 6], 'max_features': ['sqrt', 'log2', None]}\n"
     ]
    }
   ],
   "source": [
    "import numpy as np\n",
    "from sklearn.model_selection import RandomizedSearchCV\n",
    "\n",
    "# Number of trees in random forest\n",
    "n_estimators = [int(x) for x in np.linspace(start=100, stop=1000, num=10)]\n",
    "\n",
    "# to measure the quality of a split\n",
    "criterion = ['gini', 'entropy', 'log_loss']\n",
    "\n",
    "# The maximum depth of the tree\n",
    "# max_depth = [int(x) for x in np.linspace(1, 10, 1)]\n",
    "\n",
    "# The minimum number of samples required to split an internal node\n",
    "min_samples_split = [2,4,6]\n",
    "\n",
    "# The minimum number of samples required to be at a leaf node.\n",
    "min_samples_leaf = [2,4,6]\n",
    "\n",
    "# The number of features to consider when looking for the best split\n",
    "max_features = ['sqrt', 'log2', None]\n",
    "\n",
    "# create an random grid\n",
    "random_grid = {\n",
    "    \"n_estimators\" : n_estimators,\n",
    "    \"criterion\" : criterion,\n",
    "    # \"max_depth\" : max_depth,\n",
    "    \"min_samples_split\" : min_samples_split,\n",
    "    \"min_samples_leaf\" : min_samples_leaf,\n",
    "    \"max_features\" : max_features,\n",
    "}\n",
    "print(random_grid)"
   ]
  },
  {
   "cell_type": "code",
   "execution_count": 12,
   "metadata": {},
   "outputs": [],
   "source": [
    "# rf = RandomForestClassifier()\n",
    "# rf_randomcv = RandomizedSearchCV(estimator=rf, param_distributions=random_grid, n_iter=100, cv=2, verbose=2, random_state=100, n_jobs=1)\n",
    "# rf_randomcv.fit(X_train,y_train)"
   ]
  },
  {
   "cell_type": "code",
   "execution_count": null,
   "metadata": {},
   "outputs": [],
   "source": [
    "from sklearn.model_selection import GridSearchCV\n",
    "\n",
    "# Define hyperparameters grid\n",
    "param_grid = {\n",
    "    'n_estimators': [100, 200, 300],\n",
    "    'max_depth': [None, 10, 20],\n",
    "    'min_samples_split': [2, 5, 10],\n",
    "    'min_samples_leaf': [1, 2, 4],\n",
    "    'max_features': ['auto', 'sqrt', None],\n",
    "    'criterion': ['gini', 'entropy', 'log_loss'],\n",
    "}\n",
    "\n",
    "# Initialize RandomForestClassifier\n",
    "rf_model = RandomForestClassifier()\n",
    "\n",
    "# GridSearchCV for hyperparameter tuning\n",
    "grid_search = GridSearchCV(estimator=rf_model, param_grid=param_grid, cv=5, scoring='accuracy')\n",
    "grid_search.fit(X_train, y_train)\n",
    "\n",
    "# Best parameters and best score\n",
    "print(\"Best Parameters:\", grid_search.best_params_)\n",
    "print(\"Best Score:\", grid_search.best_score_)\n"
   ]
  },
  {
   "cell_type": "markdown",
   "metadata": {},
   "source": [
    "Taking an long time for hyper parametric tuning, however the accuracy will increase only in short level , so I take an random one of above"
   ]
  }
 ],
 "metadata": {
  "kernelspec": {
   "display_name": "MYENV",
   "language": "python",
   "name": "python3"
  },
  "language_info": {
   "codemirror_mode": {
    "name": "ipython",
    "version": 3
   },
   "file_extension": ".py",
   "mimetype": "text/x-python",
   "name": "python",
   "nbconvert_exporter": "python",
   "pygments_lexer": "ipython3",
   "version": "3.10.12"
  }
 },
 "nbformat": 4,
 "nbformat_minor": 2
}
